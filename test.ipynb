{
  "cells": [
    {
      "cell_type": "code",
      "source": [
        "import datetime as dt\n",
        "\n",
        "import numpy as np\n",
        "import pandas as pd\n",
        "\n",
        "from pandas_datareader.data import Options\n",
        "from py_vollib.black_scholes_merton.implied_volatility import *"
      ],
      "outputs": [],
      "execution_count": 188,
      "metadata": {
        "collapsed": false,
        "outputHidden": false,
        "inputHidden": false
      }
    },
    {
      "cell_type": "code",
      "source": [
        "aapl = Options('aapl', 'yahoo')\n",
        "data = aapl.get_near_stock_price(above_below=2)"
      ],
      "outputs": [
        {
          "output_type": "stream",
          "name": "stderr",
          "text": [
            "/Users/admin/Anaconda/lib/python3.6/site-packages/pandas_datareader/yahoo/options.py:457: FutureWarning: order is deprecated, use sort_values(...)\n",
            "  index = DatetimeIndex(expiry_dates).order()\n"
          ]
        }
      ],
      "execution_count": 189,
      "metadata": {
        "collapsed": false,
        "outputHidden": false,
        "inputHidden": false
      }
    },
    {
      "cell_type": "code",
      "source": [
        "calendar = USFederalHolidayCalendar()\n",
        "calendar.rules"
      ],
      "outputs": [
        {
          "output_type": "execute_result",
          "execution_count": 194,
          "data": {
            "text/plain": [
              "[Holiday: New Years Day (month=1, day=1, observance=<function nearest_workday at 0x114d84730>),\n",
              " Holiday: Dr. Martin Luther King Jr. (month=1, day=1, offset=<DateOffset: kwds={'weekday': MO(+3)}>),\n",
              " Holiday: Presidents Day (month=2, day=1, offset=<DateOffset: kwds={'weekday': MO(+3)}>),\n",
              " Holiday: MemorialDay (month=5, day=31, offset=<DateOffset: kwds={'weekday': MO(-1)}>),\n",
              " Holiday: July 4th (month=7, day=4, observance=<function nearest_workday at 0x114d84730>),\n",
              " Holiday: Labor Day (month=9, day=1, offset=<DateOffset: kwds={'weekday': MO(+1)}>)]"
            ]
          },
          "metadata": {}
        }
      ],
      "execution_count": 194,
      "metadata": {
        "collapsed": false,
        "outputHidden": false,
        "inputHidden": false
      }
    },
    {
      "cell_type": "code",
      "source": [
        "calendar = USFederalHolidayCalendar()\n",
        "calendar.rules.pop(7) # Veteran day\n",
        "calendar.rules.pop(6) # Columbus day\n",
        "calendar = Holida\n",
        "holidays = calendar.holidays(dt.datetime(2016, 7, 11), dt.datetime(2018, 7, 11))\n",
        "# data.index.get_level_values('Expiry')[0].to_pydatetime()\n",
        "holidays = holidays.tolist()\n",
        "holidays"
      ],
      "outputs": [
        {
          "output_type": "error",
          "ename": "IndexError",
          "evalue": "pop index out of range",
          "traceback": [
            "\u001b[0;31m---------------------------------------------------------------------------\u001b[0m",
            "\u001b[0;31mIndexError\u001b[0m                                Traceback (most recent call last)",
            "\u001b[0;32m<ipython-input-192-24ab1855b549>\u001b[0m in \u001b[0;36m<module>\u001b[0;34m()\u001b[0m\n\u001b[1;32m      1\u001b[0m \u001b[0mcalendar\u001b[0m \u001b[0;34m=\u001b[0m \u001b[0mUSFederalHolidayCalendar\u001b[0m\u001b[0;34m(\u001b[0m\u001b[0;34m)\u001b[0m\u001b[0;34m\u001b[0m\u001b[0m\n\u001b[1;32m      2\u001b[0m \u001b[0;31m#calendar.rules.pop(7) # Veteran day\u001b[0m\u001b[0;34m\u001b[0m\u001b[0;34m\u001b[0m\u001b[0m\n\u001b[0;32m----> 3\u001b[0;31m \u001b[0mcalendar\u001b[0m\u001b[0;34m.\u001b[0m\u001b[0mrules\u001b[0m\u001b[0;34m.\u001b[0m\u001b[0mpop\u001b[0m\u001b[0;34m(\u001b[0m\u001b[0;36m6\u001b[0m\u001b[0;34m)\u001b[0m \u001b[0;31m# Columbus day\u001b[0m\u001b[0;34m\u001b[0m\u001b[0m\n\u001b[0m\u001b[1;32m      4\u001b[0m \u001b[0;31m#calendar = HolidayCalendarFactory()\u001b[0m\u001b[0;34m\u001b[0m\u001b[0;34m\u001b[0m\u001b[0m\n\u001b[1;32m      5\u001b[0m \u001b[0;31m#holidays = calendar.holidays(dt.datetime(2016, 7, 11), dt.datetime(2018, 7, 11))\u001b[0m\u001b[0;34m\u001b[0m\u001b[0;34m\u001b[0m\u001b[0m\n",
            "\u001b[0;31mIndexError\u001b[0m: pop index out of range"
          ]
        }
      ],
      "execution_count": 192,
      "metadata": {
        "collapsed": false,
        "outputHidden": false,
        "inputHidden": false
      }
    },
    {
      "cell_type": "code",
      "source": [
        "np.busday_count(dt.datetime(2016, 7, 11), dt.datetime(2018, 7, 11), holidays=holidays)"
      ],
      "outputs": [
        {
          "output_type": "execute_result",
          "execution_count": 177,
          "data": {
            "text/plain": [
              "502"
            ]
          },
          "metadata": {}
        }
      ],
      "execution_count": 177,
      "metadata": {
        "collapsed": false,
        "outputHidden": false,
        "inputHidden": false
      }
    },
    {
      "cell_type": "code",
      "source": [
        "data.index.get_level_values('Strike')\n",
        "data.index.get_level_values('Expiry')"
      ],
      "outputs": [
        {
          "output_type": "execute_result",
          "execution_count": 121,
          "data": {
            "text/plain": [
              "DatetimeIndex(['2017-07-14', '2017-07-14', '2017-07-14', '2017-07-14',\n",
              "               '2017-07-14'],\n",
              "              dtype='datetime64[ns]', name='Expiry', freq=None)"
            ]
          },
          "metadata": {}
        }
      ],
      "execution_count": 121,
      "metadata": {
        "collapsed": false,
        "outputHidden": false,
        "inputHidden": false
      }
    },
    {
      "cell_type": "code",
      "source": [
        "sigma = implied_volatility(0.21, 144.82, 147.0, 4/365, 0.0, 0.0, 'c')\n",
        "sigma"
      ],
      "outputs": [
        {
          "output_type": "execute_result",
          "execution_count": 122,
          "data": {
            "text/plain": [
              "0.15021214804045388"
            ]
          },
          "metadata": {}
        }
      ],
      "execution_count": 122,
      "metadata": {
        "collapsed": false,
        "outputHidden": false,
        "inputHidden": false
      }
    }
  ],
  "metadata": {
    "kernelspec": {
      "name": "python3",
      "language": "python",
      "display_name": "Python 3"
    },
    "kernel_info": {
      "name": "python3"
    },
    "language_info": {
      "name": "python",
      "version": "3.6.0",
      "mimetype": "text/x-python",
      "codemirror_mode": {
        "name": "ipython",
        "version": 3
      },
      "pygments_lexer": "ipython3",
      "nbconvert_exporter": "python",
      "file_extension": ".py"
    }
  },
  "nbformat": 4,
  "nbformat_minor": 4
}