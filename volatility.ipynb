{
 "cells": [
  {
   "cell_type": "code",
   "execution_count": 44,
   "metadata": {
    "collapsed": false
   },
   "source": [
    "from vollib.black_scholes_merton.implied_volatility import *"
   ],
   "outputs": []
  },
  {
   "cell_type": "code",
   "execution_count": 60,
   "metadata": {
    "collapsed": false
   },
   "source": [
    "S = 100\n",
    "K = 100\n",
    "sigma = 0.16\n",
    "r = 0.01\n",
    "flag = 'c'\n",
    "t = 1.0\n",
    "q = 0.00"
   ],
   "outputs": []
  },
  {
   "cell_type": "code",
   "execution_count": 61,
   "metadata": {
    "collapsed": false
   },
   "source": [
    "reference_price = python_black_scholes_merton(flag, S, K, t, r, q, sigma)\n",
    "price = black_scholes_merton(flag, S, K, t, r, q, sigma)\n",
    "abs(reference_price - price) < .00000001"
   ],
   "outputs": [
    {
     "execution_count": 61,
     "data": {
      "text/plain": [
       "True"
      ]
     },
     "metadata": {},
     "output_type": "execute_result",
     "text": []
    }
   ]
  },
  {
   "cell_type": "code",
   "execution_count": 62,
   "metadata": {
    "collapsed": false
   },
   "source": [
    "price = black_scholes_merton(flag, S, K, t, r, sigma, q)\n",
    "iv = implied_volatility(price, S, K, t, r, q, flag)\n",
    "print price\n",
    "print iv"
   ],
   "outputs": [
    {
     "text": [
      "6.85442135767\n",
      "0.16\n"
     ],
     "name": "stdout",
     "output_type": "stream"
    }
   ]
  },
  {
   "cell_type": "code",
   "execution_count": null,
   "metadata": {
    "collapsed": false
   },
   "source": [],
   "outputs": []
  }
 ],
 "nbformat": 4,
 "nbformat_minor": 0,
 "metadata": {
  "kernelspec": {
   "name": "python2",
   "language": "python",
   "display_name": "Python 2"
  },
  "kernel_info": {
   "name": "python2"
  },
  "language_info": {
   "mimetype": "text/x-python",
   "nbconvert_exporter": "python",
   "name": "python",
   "pygments_lexer": "ipython2",
   "version": "2.7.12",
   "file_extension": ".py",
   "codemirror_mode": {
    "version": 2,
    "name": "ipython"
   }
  }
 }
}