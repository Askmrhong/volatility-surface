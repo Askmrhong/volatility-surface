{
 "cells": [
  {
   "execution_count": 286,
   "metadata": {
    "collapsed": false
   },
   "outputs": [],
   "cell_type": "code",
   "outputExpanded": false,
   "source": [
    "import os,sys\n",
    "import numpy as np\n",
    "import pandas as pd\n",
    "from pandas import Series, DataFrame\n",
    "\nfrom vollib.black_scholes_merton.implied_volatility import *"
   ]
  },
  {
   "cell_type": "markdown",
   "metadata": {},
   "source": [
    "GLOBAL SETTINGS\n",
    "\nWithin the BSM paradigm, the price of an option depends on the risk free interest rate and the annualized dividend rate of the chosen underlying stock."
   ],
   "outputs": [],
   "outputExpanded": false
  },
  {
   "execution_count": 287,
   "metadata": {
    "collapsed": false
   },
   "outputs": [],
   "cell_type": "code",
   "outputExpanded": false,
   "source": [
    "# TODO: Dynamically scrape the QuoteData for all tickers in a list\n",
    "folder = r\"volatilities\"\n",
    "quote_data = \"QuoteData.dat\"\n",
    "\n",
    "# Sets minimum volume to filter the options\n",
    "volume_threshold = 100\n",
    "rf_interest_rate = 0.01\n",
    "dividend_rate = 0.03"
   ]
  },
  {
   "execution_count": 288,
   "metadata": {
    "collapsed": false
   },
   "outputs": [],
   "cell_type": "code",
   "outputExpanded": false,
   "source": [
    "# TODO: Change calendar to a 252 day trading calendar (likely via Zipline module, would add a lot of code otherwise)\n",
    "cumulative_month = {'Jan': 31, 'Feb': 57, 'Mar': 90,\n",
    "                    'Apr': 120, 'May': 151, 'Jun': 181,\n",
    "                    'Jul': 212, 'Aug': 243, 'Sep': 273,\n",
    "                    'Oct': 304, 'Nov': 334, 'Dec': 365}"
   ]
  },
  {
   "execution_count": 289,
   "metadata": {
    "collapsed": false
   },
   "outputs": [],
   "cell_type": "code",
   "outputExpanded": false,
   "source": [
    "def get_time_to_expiration(string):\n",
    "    \n",
    "    string = string.split()\n",
    "    expiration_year, expiration_month = string[0], string[1]\n",
    "    expiration_date = (int(expiration_year) - (int(current_year) % 2000)) * 365 + cumulative_month[expiration_month] - 7 # \n",
    "    return expiration_date - current_date"
   ]
  },
  {
   "execution_count": 290,
   "metadata": {
    "collapsed": false
   },
   "outputs": [],
   "cell_type": "code",
   "outputExpanded": false,
   "source": [
    "def get_strike(string):\n",
    "    \n",
    "    string = string.split()\n",
    "    strike = float(string[2])\n",
    "    return strike"
   ]
  },
  {
   "execution_count": 291,
   "metadata": {
    "collapsed": false
   },
   "outputs": [],
   "cell_type": "code",
   "outputExpanded": false,
   "source": [
    "def calculate_iv(bid, ask, strike, time_to_expiration, flag, direction):\n",
    "\n",
    "    # Select which value to use for premium\n",
    "    if \"long\" in direction:\n",
    "        premium = float(bid)\n",
    "    elif \"short\" in direction:\n",
    "        premium = float(ask)\n",
    "    elif \"average\" in direction:\n",
    "        premium = (float(bid) + float(ask)) / 2.0\n",
    "    else:\n",
    "        print \"Check code as direction parameter is neither long, short, or average\"\n",
    "        exit(1)\n",
    "    \n",
    "    time_to_expiration /= 365.0\n",
    "    \n",
    "    # Convert to textbook shorthand notation\n",
    "    P = premium\n",
    "    S = underlying\n",
    "    K = strike\n",
    "    t = time_to_expiration\n",
    "    r = rf_interest_rate\n",
    "    q = dividend_rate\n",
    "\n",
    "    # Fastest method to calculate implied volatility, using the vollib library\n",
    "    sigma = implied_volatility(P, S, K, t, r, q, flag)\n",
    "        \n",
    "    return max(sigma, 0.0)"
   ]
  },
  {
   "execution_count": 292,
   "metadata": {
    "collapsed": false
   },
   "outputs": [
    {
     "text": [
      "Calculating implied volatilities\n",
      "Stock: SPY @ 221.52$\n",
      "Date: Nov 25 2016 (329th day)\n"
     ],
     "name": "stdout",
     "output_type": "stream"
    }
   ],
   "cell_type": "code",
   "outputExpanded": false,
   "source": [
    "# Opens CBOE QuoteData\n",
    "try:\n",
    "    data = open(quote_data)\n",
    "    header1 = data.readline().split(\",\")\n",
    "    header2 = data.readline().split(\",\")\n",
    "    date = header2[0].split()\n",
    "    data.close() \n",
    "except:\n",
    "    print \"Couldn't read QuoteData. Maybe the format changed?\"\n",
    "    exit(1)\n",
    "\n",
    "# Parse the header information in QuotaData\n",
    "ticker = header1[0].split()[0]\n",
    "underlying = float(header1[1])\n",
    "current_month, current_day, current_year = date[0], date[1], date[2]\n",
    "current_date = cumulative_month[current_month] + int(current_day) - 30\n",
    "\n",
    "# Prints visual information\n",
    "print \"Calculating implied volatilities\"\n",
    "print \"Stock: %s @ %s$\" % (ticker, underlying)\n",
    "print \"Date: %s %s %s (%sth day)\" % (current_month, current_day, current_year, current_date)\n",
    "#print \"\"\n",
    "#print header1\n",
    "#print header2\n",
    "#print date\n",
    "#print \"\""
   ]
  },
  {
   "execution_count": 293,
   "metadata": {
    "collapsed": false
   },
   "outputs": [
    {
     "text": [
      "Calculating implied volatility for calls\n",
      "Calculated implied volatility for 1018 calls\n",
      "CPU times: user 3 µs, sys: 0 ns, total: 3 µs\n",
      "Wall time: 6.91 µs\n"
     ],
     "name": "stdout",
     "output_type": "stream"
    }
   ],
   "cell_type": "code",
   "outputExpanded": false,
   "source": [
    "# Opens CBOE quotedata to get calls, and fills in NA values with 0.0, and duplicates it for puts\n",
    "df = pd.read_csv(quote_data, sep=\",\", header=2, mangle_dupe_cols=True, encoding=\"utf-8\", engine=\"c\")\n",
    "df2 = df\n",
    "\n",
    "# Munge data by dropping useless columns, filling blank values and taking only options that have nonzero volume (eg that actually sell)   \n",
    "keep = [\"Calls\", \"Bid\", \"Ask\", \"Vol\"]\n",
    "df = df[keep]\n",
    "df = df.fillna(0.0)\n",
    "\n",
    "df = df[df[\"Bid\"] != \" \"]\n",
    "df = df[df[\"Ask\"] != \" \"]\n",
    "df = df[df[\"Vol\"] > volume_threshold]\n",
    "\n",
    "# Get expiration dates and strike prices\n",
    "expirations = df[\"Calls\"].apply(get_time_to_expiration)\n",
    "expirations.name = \"Expiration\"\n",
    "\n",
    "strikes = df[\"Calls\"].apply(get_strike)\n",
    "strikes.name = \"Strike\"\n",
    "\n",
    "df = df.join(expirations).join(strikes)\n",
    "\n",
    "print \"Calculating implied volatility for calls\"\n",
    "\n",
    "call_ivs = []\n",
    "for index, row in df.iterrows():\n",
    "    #print repr(row[\"Bid\"]), repr(row[\"Ask\"]), repr(row[\"Strike\"]),repr(row[\"Expiration\"])\n",
    "    iv = calculate_iv(row[\"Bid\"],\n",
    "                    row[\"Ask\"],\n",
    "                    row[\"Strike\"],\n",
    "                    row[\"Expiration\"],\n",
    "                    \"c\", \"average\")\n",
    "    call_ivs.append(iv)\n",
    "\n",
    "df[\"Call IV\"] = call_ivs\n",
    "print \"Calculated implied volatility for %d calls\" % len(df.index) \n",
    "%time"
   ]
  },
  {
   "execution_count": 294,
   "metadata": {
    "collapsed": false
   },
   "outputs": [
    {
     "text": [
      "Calculating implied volatility for puts\n",
      "Calculated implied volatility for 1260 puts\n",
      "CPU times: user 2 µs, sys: 2 µs, total: 4 µs\n",
      "Wall time: 8.11 µs\n"
     ],
     "name": "stdout",
     "output_type": "stream"
    }
   ],
   "cell_type": "code",
   "outputExpanded": false,
   "source": [
    "# Repeat for put options data\n",
    "# Notice the .1 for repeated names\n",
    "keep2 = [\"Puts\", \"Bid.1\", \"Ask.1\", \"Vol.1\"]\n",
    "df2 = df2[keep2]\n",
    "df2 = df2.fillna(0.0)\n",
    "\n",
    "df2 = df2[df2[\"Bid.1\"] != \" \"]\n",
    "df2 = df2[df2[\"Ask.1\"] != \" \"]\n",
    "df2 = df2[df2[\"Vol.1\"] > volume_threshold]\n",
    "\n",
    "# Get expiration dates and strike prices\n",
    "expirations = df2[\"Puts\"].apply(get_time_to_expiration)\n",
    "expirations.name = \"Expiration\"\n",
    "\n",
    "strikes = df2[\"Puts\"].apply(get_strike)\n",
    "strikes.name = \"Strike\"\n",
    "\n",
    "df2 = df2.join(expirations).join(strikes)\n",
    "\n",
    "print \"Calculating implied volatility for puts\"\n",
    "\n",
    "put_ivs = []\n",
    "for index, row in df2.iterrows():\n",
    "    #print repr(row[\"Bid.1\"]), repr(row[\"Ask.1\"]), repr(row[\"Strike\"]),repr(row[\"Expiration\"])\n",
    "    iv = calculate_iv(row[\"Bid.1\"],\n",
    "                    row[\"Ask.1\"],\n",
    "                    row[\"Strike\"],\n",
    "                    row[\"Expiration\"],\n",
    "                    \"p\", \"average\")\n",
    "    put_ivs.append(iv)\n",
    "\n",
    "df2[\"Put IV\"] = put_ivs\n",
    "df2.rename(columns={\"Bid.1\": 'Bid', \"Ask.1\": \"Ask\", \"Vol.1\": \"Vol\"}, inplace=True)\n",
    "print \"Calculated implied volatility for %d puts\" % len(df2.index)\n",
    "%time"
   ]
  },
  {
   "execution_count": 295,
   "metadata": {
    "collapsed": false
   },
   "outputs": [
    {
     "text": [
      "Done!\n"
     ],
     "name": "stdout",
     "output_type": "stream"
    }
   ],
   "cell_type": "code",
   "outputExpanded": false,
   "source": [
    "# Output both calls and puts\n",
    "try: \n",
    "    os.makedirs(folder)\n",
    "except OSError:\n",
    "    if not os.path.isdir(folder):\n",
    "        raise\n",
    "\n",
    "df.to_csv(os.path.join(folder, ticker + r\"_calls.csv\"), sep=\",\", encoding='utf-8')\n",
    "df2.to_csv(os.path.join(folder, ticker + r\"_puts.csv\"), sep=\",\", encoding='utf-8')\n",
    "print \"Done!\""
   ]
  }
 ],
 "nbformat": 4,
 "nbformat_minor": 0,
 "metadata": {
  "kernelspec": {
   "name": "python2",
   "language": "python",
   "display_name": "Python 2"
  },
  "kernel_info": {
   "name": "python2"
  },
  "language_info": {
   "mimetype": "text/x-python",
   "nbconvert_exporter": "python",
   "name": "python",
   "pygments_lexer": "ipython2",
   "version": "2.7.12",
   "file_extension": ".py",
   "codemirror_mode": {
    "version": 2,
    "name": "ipython"
   }
  }
 }
}