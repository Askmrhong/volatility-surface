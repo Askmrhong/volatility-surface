{
 "cells": [
  {
   "cell_type": "code",
   "execution_count": 135,
   "metadata": {
    "collapsed": false
   },
   "source": [
    "import os,sys\n",
    "import numpy as np\n",
    "import pandas as pd\n",
    "from pandas import Series, DataFrame\n",
    "\nfrom vollib.black_scholes_merton.implied_volatility import *"
   ],
   "outputs": []
  },
  {
   "cell_type": "markdown",
   "metadata": {},
   "source": [
    "GLOBAL SETTINGS\n",
    "\nThe price of an option depends on the risk free interest rate and the annualized dividend rate of the chosen underlying stock."
   ],
   "outputs": []
  },
  {
   "cell_type": "code",
   "execution_count": 136,
   "metadata": {
    "collapsed": false
   },
   "source": [
    "quote_data = \"QuoteData.dat\"\n",
    "risk_free_interest_rate = 0.005\n",
    "dividend_rate = 0.03"
   ],
   "outputs": []
  },
  {
   "cell_type": "code",
   "execution_count": 137,
   "metadata": {
    "collapsed": false
   },
   "source": [
    "# TODO : Change calendar to a 252 day trading calendar (likely via Zipline module, would add a lot of code otherwise)\n",
    "cumulative_month = {'Jan': 31, 'Feb': 57, 'Mar': 90,\n",
    "                    'Apr': 120, 'May': 151, 'Jun': 181,\n",
    "                    'Jul': 212, 'Aug': 243, 'Sep': 273,\n",
    "                    'Oct': 304, 'Nov': 334, 'Dec': 365}"
   ],
   "outputs": []
  },
  {
   "cell_type": "code",
   "execution_count": 138,
   "metadata": {
    "collapsed": false
   },
   "source": [
    "def get_expiration(string):\n",
    "    \n",
    "    string = string.split()\n",
    "    expiration_year, expiration_month = string[0], string[1]\n",
    "    expiration_date = (int(expiration_year) - (int(current_year) % 2000)) * 365 + cumulative_month[expiration_month] \n",
    "    return expiration_date"
   ],
   "outputs": []
  },
  {
   "cell_type": "code",
   "execution_count": 139,
   "metadata": {
    "collapsed": false
   },
   "source": [
    "def get_strike(string):\n",
    "    \n",
    "    string = string.split()\n",
    "    strike = float(string[2])\n",
    "    return strike"
   ],
   "outputs": []
  },
  {
   "cell_type": "code",
   "execution_count": 140,
   "metadata": {
    "collapsed": false
   },
   "source": [
    "def calculate_iv(bid, ask, strike, expiration_date, flag, direction):\n",
    "\n",
    "    # Select which value to use for premium\n",
    "    if \"long\" in direction:\n",
    "        premium = float(bid)\n",
    "    elif \"short\" in direction:\n",
    "        premium = float(ask)\n",
    "    elif \"average\" in direction:\n",
    "        premium = (float(bid) + float(ask)) / 2.0\n",
    "    else:\n",
    "        print \"Check code as direction parameter is neither long, short, or average\"\n",
    "        exit(1)\n",
    "    \n",
    "    time_to_expiry = (expiration_date - current_date) / 365.0\n",
    "    \n",
    "    # Convert to textbook shorthand notation\n",
    "    P = premium\n",
    "    S = underlying\n",
    "    K = strike\n",
    "    t = time_to_expiry\n",
    "    r = risk_free_interest_rate\n",
    "    q = dividend_rate\n",
    "\n",
    "    # Fastest method to calculate implied volatility, using the vollib library\n",
    "    sigma = implied_volatility(P, S, K, t, r, q, flag)   \n",
    "    return max(sigma, 0.0)"
   ],
   "outputs": []
  },
  {
   "cell_type": "code",
   "execution_count": 141,
   "metadata": {
    "collapsed": false
   },
   "source": [
    "# Opens CBOE QuoteData\n",
    "try:\n",
    "    data = open(quote_data)\n",
    "    header1 = data.readline().split(\",\")\n",
    "    header2 = data.readline().split(\",\")\n",
    "    date = header2[0].split()\n",
    "    data.close() \n",
    "except:\n",
    "    print \"Couldn't read QuoteData. Maybe the format changed?\"\n",
    "    exit(1)\n",
    "\n",
    "# Parse the header information in QuotaData\n",
    "ticker = header1[0].split()[0]\n",
    "underlying = float(header1[1])\n",
    "current_month, current_day, current_year = date[0], date[1], date[2]\n",
    "current_date = cumulative_month[current_month] + int(current_day) - 30\n",
    "\n",
    "# Prints visual information\n",
    "print \"Calculating implied volatilities\"\n",
    "print \"Stock: %s @ %s$\" % (ticker, underlying)\n",
    "print \"Date: %s %s %s (%sth day)\" % (current_month, current_day, current_year, current_date)\n",
    "#print \"\"\n",
    "#print header1\n",
    "#print header2\n",
    "#print date\n",
    "#print \"\""
   ],
   "outputs": [
    {
     "text": [
      "Calculating implied volatilities\n",
      "Stock: AAPL @ 109.8$\n",
      "Date: Nov 04 2016 (308th day)\n"
     ],
     "name": "stdout",
     "output_type": "stream"
    }
   ]
  },
  {
   "cell_type": "code",
   "execution_count": 142,
   "metadata": {
    "collapsed": false
   },
   "source": [
    "# Opens CBOE quotedata to get calls, and fills in NA values with 0.0, and duplicates it for puts\n",
    "df = pd.read_csv(quote_data, sep=\",\", header = 2, mangle_dupe_cols = True, encoding=\"utf-8\", engine = \"c\")\n",
    "df2 = df\n",
    "\n",
    "# Munge data by dropping useless columns, filling blank values and taking only options that have nonzero volume (eg that actually sell)   \n",
    "keep = [\"Calls\", \"Bid\", \"Ask\", \"Vol\"]\n",
    "df = df[keep]\n",
    "df = df.fillna(0.0)\n",
    "df = df[df[\"Vol\"] > 0]\n",
    "#print df\n",
    "\n",
    "# Get expiration dates and strike prices\n",
    "expiration_dates = df[\"Calls\"].apply(get_expiration)\n",
    "expiration_dates.name = \"Expiration\"\n",
    "\n",
    "strikes = df[\"Calls\"].apply(get_strike)\n",
    "strikes.name = \"Strike\"\n",
    "\n",
    "df = df.join(expiration_dates).join(strikes)\n",
    "\n",
    "print \"Calculating implied volatility for calls\"\n",
    "\n",
    "call_ivs = []\n",
    "for index, row in df.iterrows():\n",
    "    iv = calculate_iv(row[\"Bid\"],\n",
    "                    row[\"Ask\"],\n",
    "                    row[\"Strike\"],\n",
    "                    row[\"Expiration\"],\n",
    "                    \"c\", \"average\")\n",
    "    call_ivs.append(iv)\n",
    "\nprint \"Calculated implied volatility for %d calls\" % len(df.index) "
   ],
   "outputs": [
    {
     "text": [
      "Calculating implied volatility for calls\n",
      "Calculated implied volatility for 1884 calls\n"
     ],
     "name": "stdout",
     "output_type": "stream"
    }
   ]
  },
  {
   "cell_type": "code",
   "execution_count": 143,
   "metadata": {
    "collapsed": false
   },
   "source": [
    "# Repeat for put options data\n",
    "# Notice the .1 for repeated names\n",
    "keep2 = [\"Puts\", \"Bid.1\", \"Ask.1\", \"Vol.1\"]\n",
    "df2 = df2[keep2]\n",
    "df2 = df2.fillna(0.0)\n",
    "df2 = df2[df2[\"Vol.1\"] > 0] \n",
    "\n",
    "df2 = df2.join(expiration_dates).join(strikes)\n",
    "\n",
    "print \"Calculating implied volatility for puts\"\n",
    "\n",
    "put_ivs = []\n",
    "for index, row in df2.iterrows():\n",
    "    iv = calculate_iv(row[\"Bid.1\"],\n",
    "                    row[\"Ask.1\"],\n",
    "                    row[\"Strike\"],\n",
    "                    row[\"Expiration\"],\n",
    "                    \"p\", \"average\")\n",
    "    put_ivs.append(iv)\n",
    "    \n",
    "print \"Calculated implied volatility for %d puts\" % len(df2.index)"
   ],
   "outputs": [
    {
     "text": [
      "Calculating implied volatility for puts\n",
      "Calculated implied volatility for 1869 puts\n"
     ],
     "name": "stdout",
     "output_type": "stream"
    }
   ]
  },
  {
   "cell_type": "code",
   "execution_count": 145,
   "metadata": {
    "collapsed": false
   },
   "source": [
    "# Output both calls and puts\n",
    "\n",
    "df.to_csv(ticker + \"_calls.csv\", sep=\",\", encoding='utf-8')\n",
    "df2.to_csv(ticker + \"_puts.csv\", sep=\",\", encoding='utf-8')\n",
    "print \"Done!\"\n",
    "%time"
   ],
   "outputs": [
    {
     "text": [
      "Done!\n",
      "CPU times: user 5 µs, sys: 1 µs, total: 6 µs\n",
      "Wall time: 21.9 µs\n"
     ],
     "name": "stdout",
     "output_type": "stream"
    }
   ]
  },
  {
   "cell_type": "code",
   "execution_count": null,
   "metadata": {
    "collapsed": false
   },
   "source": [],
   "outputs": []
  }
 ],
 "nbformat": 4,
 "nbformat_minor": 0,
 "metadata": {
  "kernelspec": {
   "name": "python2",
   "language": "python",
   "display_name": "Python 2"
  },
  "kernel_info": {
   "name": "python2"
  },
  "language_info": {
   "mimetype": "text/x-python",
   "nbconvert_exporter": "python",
   "name": "python",
   "pygments_lexer": "ipython2",
   "version": "2.7.12",
   "file_extension": ".py",
   "codemirror_mode": {
    "version": 2,
    "name": "ipython"
   }
  }
 }
}